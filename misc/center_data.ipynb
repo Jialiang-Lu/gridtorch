{
 "cells": [
  {
   "cell_type": "code",
   "execution_count": 1,
   "metadata": {},
   "outputs": [
    {
     "name": "stdout",
     "output_type": "stream",
     "text": [
      "Using matplotlib backend: Qt5Agg\n",
      "Populating the interactive namespace from numpy and matplotlib\n"
     ]
    }
   ],
   "source": [
    "import numpy as np\n",
    "from model_lstm import GridTorch\n",
    "import torch\n",
    "%pylab"
   ]
  },
  {
   "cell_type": "code",
   "execution_count": 2,
   "metadata": {},
   "outputs": [],
   "source": [
    "dic = torch.load('../data/torch/1-99.pt')\n",
    "target_pos, target_hd = dic['target_pos'], dic['target_hd'] \n",
    "init_pos, init_hd, ego_vel = dic['init_pos'], dic['init_hd'], dic['ego_vel']"
   ]
  },
  {
   "cell_type": "code",
   "execution_count": 3,
   "metadata": {},
   "outputs": [
    {
     "data": {
      "text/plain": [
       "10000"
      ]
     },
     "execution_count": 3,
     "metadata": {},
     "output_type": "execute_result"
    }
   ],
   "source": [
    "len(target_pos)\n"
   ]
  },
  {
   "cell_type": "code",
   "execution_count": 4,
   "metadata": {},
   "outputs": [
    {
     "name": "stderr",
     "output_type": "stream",
     "text": [
      "/home/lucas/anaconda3/envs/diss/lib/python3.6/site-packages/numpy/linalg/linalg.py:2378: RuntimeWarning: invalid value encountered in sqrt\n",
      "  return sqrt(add.reduce(s, axis=axis, keepdims=keepdims))\n"
     ]
    }
   ],
   "source": [
    "idcs = []\n",
    "idc_norms = []\n",
    "used_idcs = set()\n",
    "start_pos = target_pos[1]\n",
    "idx = 1\n",
    "while True:\n",
    "    used_idcs.add(idx)\n",
    "    idcs.append(idx)\n",
    "    pos = target_pos[idx]\n",
    "    hd = target_hd[idx]\n",
    "    end_pos = pos[-1]\n",
    "    end_hd = hd[-1]\n",
    "    norms = np.linalg.norm(end_pos - init_pos, axis=1) + np.linalg.norm(np.sin(end_hd) - np.sin(init_hd), axis=1)\n",
    "    sorted_norm_idx = np.argsort(norms)\n",
    "    for n in sorted_norm_idx:\n",
    "        if not n in used_idcs:\n",
    "            idx = n\n",
    "            break\n",
    "    idc_norms.append(norms[idx])\n",
    "    if len(used_idcs) == len(target_pos):\n",
    "        break\n",
    "    \n",
    "    \n",
    "    \n"
   ]
  },
  {
   "cell_type": "code",
   "execution_count": 5,
   "metadata": {},
   "outputs": [
    {
     "data": {
      "text/plain": [
       "[<matplotlib.lines.Line2D at 0x7f2c84847128>]"
      ]
     },
     "execution_count": 5,
     "metadata": {},
     "output_type": "execute_result"
    },
    {
     "data": {
      "image/png": "[encoded data removed]",
      "text/plain": [
       "<Figure size 432x288 with 1 Axes>"
      ]
     },
     "metadata": {
      "needs_background": "light"
     },
     "output_type": "display_data"
    }
   ],
   "source": [
    "plt.plot(idc_norms)"
   ]
  },
  {
   "cell_type": "code",
   "execution_count": 36,
   "metadata": {},
   "outputs": [],
   "source": [
    "%matplotlib qt"
   ]
  },
  {
   "cell_type": "code",
   "execution_count": 19,
   "metadata": {},
   "outputs": [
    {
     "data": {
      "text/plain": [
       "array([1.62367857, 1.659981  , 1.69288863, 1.71134724, 1.74173983,\n",
       "       1.76162603, 1.7765894 , 1.79525697, 1.82371115, 1.87428885,\n",
       "       1.90701081, 1.94758681, 1.9703281 , 2.00351884, 2.04480684,\n",
       "       2.0858312 , 2.11823675, 2.16112106, 2.1905467 , 2.24504612,\n",
       "       2.26994572, 2.30089031, 2.34965751, 2.40028799, 2.43681866,\n",
       "       2.44865858, 2.42655137, 2.38585205, 2.33590526, 2.28697797,\n",
       "       2.21404539, 2.15827568, 2.08599293, 2.03865839, 2.00612369,\n",
       "       1.96727877, 1.93193426, 1.8907462 , 1.86090314, 1.83310583,\n",
       "       1.79254983, 1.74746726, 1.71339252, 1.6609081 , 1.6293116 ,\n",
       "       1.59035874, 1.56843936, 1.55142625, 1.51712166, 1.48233339,\n",
       "       1.43629378, 1.39574937, 1.36290377, 1.34141073, 1.31424571,\n",
       "       1.30751616, 1.30070288, 1.28856159, 1.29285532, 1.31907197,\n",
       "       1.33278777, 1.35205514, 1.36943732, 1.39563726, 1.42127675,\n",
       "       1.45224309, 1.49781117, 1.54193231, 1.58628978, 1.63534147,\n",
       "       1.69794967, 1.73627587, 1.77381877, 1.8185391 , 1.8505791 ,\n",
       "       1.88515667, 1.90911094, 1.93305651, 1.9450467 , 1.94993729,\n",
       "       1.97130627, 1.99896939, 2.00460306, 2.02154137, 2.0639053 ,\n",
       "       2.08821847, 2.12007276, 2.15171128, 2.17339422, 2.19988594,\n",
       "       2.23040304, 2.27684531, 2.31324472, 2.36646246, 2.42052635,\n",
       "       2.46122729, 2.50945575, 2.54248099, 2.58152287, 2.62616358])"
      ]
     },
     "execution_count": 19,
     "metadata": {},
     "output_type": "execute_result"
    }
   ],
   "source": []
  },
  {
   "cell_type": "code",
   "execution_count": 40,
   "metadata": {},
   "outputs": [
    {
     "data": {
      "text/plain": [
       "([], <a list of 0 Text yticklabel objects>)"
      ]
     },
     "execution_count": 40,
     "metadata": {},
     "output_type": "execute_result"
    }
   ],
   "source": [
    "f = plt.figure()\n",
    "f.set_figheight(5)\n",
    "f.set_figwidth(5)\n",
    "tp = target_pos.reshape(-1, 2)[:30000]\n",
    "c = np.linalg.norm(tp - np.array([-1.1, -1.1]), axis=1)\n",
    "plt.scatter(tp.T[0], tp.T[1], s=0.4, c=c, alpha=1., cmap='brg')\n",
    "plt.xticks([])\n",
    "plt.yticks([])\n"
   ]
  },
  {
   "cell_type": "code",
   "execution_count": 32,
   "metadata": {},
   "outputs": [],
   "source": []
  },
  {
   "cell_type": "code",
   "execution_count": 78,
   "metadata": {},
   "outputs": [],
   "source": [
    "stitched_vels = np.concatenate(ego_vel[idcs[:300]])\n",
    "stitched_targets_pos = np.concatenate(target_pos[idcs[:300]])\n",
    "stitched_targets_hd = np.concatenate(target_hd[idcs[:300]])\n",
    "init_position = init_pos[0]\n",
    "init_direction = init_hd[0]"
   ]
  },
  {
   "cell_type": "code",
   "execution_count": 79,
   "metadata": {},
   "outputs": [],
   "source": [
    "out_dict = {\n",
    "    \"stitched_vels\" : stitched_vels,\n",
    "\"stitched_targets_pos\":stitched_targets_pos,\n",
    "\"stitched_targets_hd\":stitched_targets_hd,\n",
    "\"init_position\":init_position,\n",
    "\"init_direction\":init_direction,\n",
    "\n",
    "}"
   ]
  },
  {
   "cell_type": "code",
   "execution_count": 81,
   "metadata": {},
   "outputs": [],
   "source": [
    "np.save('../data/stitched_dict_2.npy', out_dict)"
   ]
  },
  {
   "cell_type": "code",
   "execution_count": null,
   "metadata": {},
   "outputs": [],
   "source": []
  }
 ],
 "metadata": {
  "kernelspec": {
   "display_name": "dissertation",
   "language": "python",
   "name": "dissertation"
  },
  "language_info": {
   "codemirror_mode": {
    "name": "ipython",
    "version": 3
   },
   "file_extension": ".py",
   "mimetype": "text/x-python",
   "name": "python",
   "nbconvert_exporter": "python",
   "pygments_lexer": "ipython3",
   "version": "3.6.8"
  }
 },
 "nbformat": 4,
 "nbformat_minor": 2
}
