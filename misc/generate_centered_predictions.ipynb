{
 "cells": [
  {
   "cell_type": "code",
   "execution_count": 4,
   "metadata": {},
   "outputs": [
    {
     "name": "stdout",
     "output_type": "stream",
     "text": [
      "Using matplotlib backend: Qt5Agg\n",
      "Populating the interactive namespace from numpy and matplotlib\n"
     ]
    }
   ],
   "source": [
    "%pylab\n",
    "import numpy as np\n",
    "import torch\n",
    "from model_lstm import GridTorch\n",
    "from dataloading import Dataset\n",
    "import utils"
   ]
  },
  {
   "cell_type": "code",
   "execution_count": 7,
   "metadata": {},
   "outputs": [],
   "source": [
    "# Create the ensembles that provide targets during training\n",
    "place_cell_ensembles = utils.get_place_cell_ensembles(\n",
    "        env_size=2.2,\n",
    "        neurons_seed=0,\n",
    "        targets_type='softmax',\n",
    "        lstm_init_type='softmax',\n",
    "        n_pc=[256],\n",
    "        pc_scale=[0.01])\n",
    "\n",
    "head_direction_ensembles = utils.get_head_direction_ensembles(\n",
    "        neurons_seed=0,\n",
    "        targets_type='softmax',\n",
    "        lstm_init_type='softmax',\n",
    "        n_hdc=[12],\n",
    "        hdc_concentration=[20.])\n",
    "\n",
    "pc_means = torch.Tensor(np.load('unittest_data/lstm/pc_means.npy'))\n",
    "pc_vars = torch.Tensor(np.load('unittest_data/lstm/pc_vars.npy'))\n",
    "\n",
    "hd_means = torch.Tensor(np.load('unittest_data/lstm/hd_means.npy'))\n",
    "hd_kappa = torch.Tensor(np.load('unittest_data/lstm/hd_kappa.npy'))\n",
    "\n",
    "place_cell_ensembles[0].means = pc_means\n",
    "place_cell_ensembles[0].vars = pc_vars\n",
    "\n",
    "head_direction_ensembles[0].means = hd_means\n",
    "head_direction_ensembles[0].kappa = hd_kappa\n",
    "\n",
    "target_ensembles = place_cell_ensembles + head_direction_ensembles"
   ]
  },
  {
   "cell_type": "code",
   "execution_count": 8,
   "metadata": {},
   "outputs": [],
   "source": [
    "model = GridTorch(target_ensembles, input_size=3, tf_weights_loc='unittest_data/lstm/')"
   ]
  },
  {
   "cell_type": "code",
   "execution_count": 9,
   "metadata": {},
   "outputs": [],
   "source": [
    "init_pos = torch.Tensor(np.load('unittest_data/lstm/init_pos.npy')[0])\n",
    "init_hd = torch.Tensor(np.load('unittest_data/lstm/init_hd.npy')[0])\n",
    "\n",
    "init_pc, init_hdc = utils.encode_initial_conditions(init_pos[None, :], init_hd[None, :], place_cell_ensembles, head_direction_ensembles)\n",
    "(init_pc, init_hdc) = init_pc.repeat(1000, 1), init_hdc.repeat(1000, 1)"
   ]
  },
  {
   "cell_type": "code",
   "execution_count": 10,
   "metadata": {},
   "outputs": [],
   "source": [
    "ego_vel = torch.Tensor(np.load('unittest_data/lstm/ego_vel.npy'))"
   ]
  },
  {
   "cell_type": "code",
   "execution_count": 11,
   "metadata": {},
   "outputs": [
    {
     "name": "stderr",
     "output_type": "stream",
     "text": [
      "/home/lucas/anaconda3/envs/diss/lib/python3.6/site-packages/torch/nn/functional.py:1386: UserWarning: nn.functional.sigmoid is deprecated. Use torch.sigmoid instead.\n",
      "  warnings.warn(\"nn.functional.sigmoid is deprecated. Use torch.sigmoid instead.\")\n"
     ]
    }
   ],
   "source": [
    "(logits_hd, logits_pc, bottleneck_acts, rnn_states, cell_states) = model(ego_vel.transpose(1, 0), (init_pc, init_hdc))"
   ]
  },
  {
   "cell_type": "code",
   "execution_count": 12,
   "metadata": {},
   "outputs": [],
   "source": [
    "cell_init = model.cell_embed(torch.cat([init_pc, init_hdc],  dim=-1))\n",
    "state_init = model.cell_embed(torch.cat([init_pc, init_hdc],  dim=-1))"
   ]
  },
  {
   "cell_type": "code",
   "execution_count": 16,
   "metadata": {},
   "outputs": [],
   "source": [
    "#dump data\n",
    "np.save(arr=cell_init.detach().numpy(), file='../data/centered_outputs/cell_init.npy')\n",
    "np.save(arr=state_init.detach().numpy(), file='../data/centered_outputs/state_init.npy')\n",
    "np.save(arr=logits_hd.detach().numpy(), file='../data/centered_outputs/logits_hd.npy')\n",
    "np.save(arr=logits_pc.detach().numpy(), file='../data/centered_outputs/logits_pc.npy')\n",
    "np.save(arr=bottleneck_acts.transpose(1, 0).detach().numpy(), file='../data/centered_outputs/bottleneck.npy')\n",
    "np.save(arr=rnn_states.transpose(1, 0).detach().numpy(), file='../data/centered_outputs/lstm.npy')\n",
    "np.save(arr=cell_states.transpose(1, 0).detach().numpy(), file='../data/centered_outputs/lstm_cell.npy')\n",
    "\n",
    "np.save(arr=ego_vel.numpy(), file='../data/centered_outputs/ego_vel.npy')\n"
   ]
  },
  {
   "cell_type": "code",
   "execution_count": 17,
   "metadata": {},
   "outputs": [
    {
     "data": {
      "text/plain": [
       "torch.Size([100, 1000, 128])"
      ]
     },
     "execution_count": 17,
     "metadata": {},
     "output_type": "execute_result"
    }
   ],
   "source": [
    "cell_states.shape"
   ]
  },
  {
   "cell_type": "code",
   "execution_count": 164,
   "metadata": {},
   "outputs": [
    {
     "data": {
      "text/plain": [
       "torch.Size([100, 1000, 128])"
      ]
     },
     "execution_count": 164,
     "metadata": {},
     "output_type": "execute_result"
    }
   ],
   "source": [
    "torch.stack(rnn_states).shape"
   ]
  },
  {
   "cell_type": "code",
   "execution_count": null,
   "metadata": {},
   "outputs": [],
   "source": []
  }
 ],
 "metadata": {
  "kernelspec": {
   "display_name": "dissertation",
   "language": "python",
   "name": "dissertation"
  },
  "language_info": {
   "codemirror_mode": {
    "name": "ipython",
    "version": 3
   },
   "file_extension": ".py",
   "mimetype": "text/x-python",
   "name": "python",
   "nbconvert_exporter": "python",
   "pygments_lexer": "ipython3",
   "version": "3.6.8"
  }
 },
 "nbformat": 4,
 "nbformat_minor": 2
}
